{
 "cells": [
  {
   "cell_type": "markdown",
   "id": "8fb822c4",
   "metadata": {},
   "source": [
    "### Импорируем функцию из файла guess_the_number.py"
   ]
  },
  {
   "cell_type": "code",
   "execution_count": 1,
   "id": "860edf3d",
   "metadata": {},
   "outputs": [],
   "source": [
    "from guess_the_number import control_menu, report"
   ]
  },
  {
   "cell_type": "markdown",
   "id": "a68f089f",
   "metadata": {},
   "source": [
    "### Проверим работу алгоритма на 5000 попыток и сохраним результат"
   ]
  },
  {
   "cell_type": "code",
   "execution_count": 2,
   "id": "6a8ae47c",
   "metadata": {},
   "outputs": [
    {
     "name": "stdout",
     "output_type": "stream",
     "text": [
      "Добро пожаловать!!!\n",
      "\n",
      "Меню:\n",
      "1.Начать тестирование\n",
      "2.Показать отчет\n",
      "3.Сохранить в файл\n",
      "0.Выход\n",
      "\n",
      "Введите номер комманды: 1\n",
      "Введите желаемое кол-во испытаний: 5000\n",
      "За 5000 испытаний среднее кол-во попыток = 6\n",
      "\n",
      "\n",
      "Меню:\n",
      "1.Начать тестирование\n",
      "2.Показать отчет\n",
      "3.Сохранить в файл\n",
      "0.Выход\n",
      "\n",
      "Введите номер комманды: 0\n",
      "Всего доброго))\n"
     ]
    }
   ],
   "source": [
    "report_info = control_menu()"
   ]
  },
  {
   "cell_type": "markdown",
   "id": "57c1dc3c",
   "metadata": {},
   "source": [
    "### Посмотрим результат выполнения алгоритма"
   ]
  },
  {
   "cell_type": "code",
   "execution_count": 18,
   "id": "7473dd3e",
   "metadata": {},
   "outputs": [
    {
     "name": "stdout",
     "output_type": "stream",
     "text": [
      "За 5 попыток угадано 770 испытаний\n",
      "За 7 попыток угадано 1830 испытаний\n",
      "За 6 попыток угадано 1551 испытаний\n",
      "За 4 попыток угадано 424 испытаний\n",
      "За 8 попыток угадано 94 испытаний\n",
      "За 3 попыток угадано 182 испытаний\n",
      "За 2 попыток угадано 102 испытаний\n",
      "За 1 попыток угадано 47 испытаний\n"
     ]
    },
    {
     "data": {
      "text/plain": [
       "1"
      ]
     },
     "execution_count": 18,
     "metadata": {},
     "output_type": "execute_result"
    }
   ],
   "source": [
    "report(report_info)"
   ]
  },
  {
   "cell_type": "markdown",
   "id": "5e9a4191",
   "metadata": {},
   "source": [
    "Как видно из результатов, самая встречаемое количество попыток за которое алгоритм \"угадал\" число - 7 <br> Но медианное и среднее значение равно 6"
   ]
  },
  {
   "cell_type": "markdown",
   "id": "34f33797",
   "metadata": {},
   "source": [
    "### Продемонстрируем результаты визуально"
   ]
  },
  {
   "cell_type": "code",
   "execution_count": null,
   "id": "a386900f",
   "metadata": {},
   "outputs": [],
   "source": [
    "#Скачиваем библиотеку matplotlib для визуального представления данных\n",
    "!pip install matplotlib"
   ]
  },
  {
   "cell_type": "code",
   "execution_count": 20,
   "id": "c54385cd",
   "metadata": {},
   "outputs": [
    {
     "data": {
      "text/plain": [
       "(-1.1171122130883675,\n",
       " 1.100814867350268,\n",
       " -1.1029606325936248,\n",
       " 1.1054367227062816)"
      ]
     },
     "execution_count": 20,
     "metadata": {},
     "output_type": "execute_result"
    },
    {
     "data": {
      "image/png": "[encoded data removed]",
      "text/plain": [
       "<Figure size 432x288 with 1 Axes>"
      ]
     },
     "metadata": {},
     "output_type": "display_data"
    }
   ],
   "source": [
    "import matplotlib.pyplot as plt\n",
    "\n",
    "fig, ax = plt.subplots()\n",
    "plt.title('Результат работы алгоритма')\n",
    "ax.pie(report_info.values(), \n",
    "       labels=report_info.keys(),\n",
    "       shadow=True\n",
    ")\n",
    "ax.axis(\"equal\")"
   ]
  }
 ],
 "metadata": {
  "kernelspec": {
   "display_name": "Python 3 (ipykernel)",
   "language": "python",
   "name": "python3"
  },
  "language_info": {
   "codemirror_mode": {
    "name": "ipython",
    "version": 3
   },
   "file_extension": ".py",
   "mimetype": "text/x-python",
   "name": "python",
   "nbconvert_exporter": "python",
   "pygments_lexer": "ipython3",
   "version": "3.9.13"
  }
 },
 "nbformat": 4,
 "nbformat_minor": 5
}
